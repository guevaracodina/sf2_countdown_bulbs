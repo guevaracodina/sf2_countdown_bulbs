{
  "nbformat": 4,
  "nbformat_minor": 0,
  "metadata": {
    "colab": {
      "provenance": [],
      "mount_file_id": "1sXCCtEGvpf1EHEuyJv-k4BRh99MGNpxw",
      "authorship_tag": "ABX9TyMSYxGg4Hfp6yRKqgJz00UE",
      "include_colab_link": true
    },
    "kernelspec": {
      "name": "python3",
      "display_name": "Python 3"
    },
    "language_info": {
      "name": "python"
    }
  },
  "cells": [
    {
      "cell_type": "markdown",
      "metadata": {
        "id": "view-in-github",
        "colab_type": "text"
      },
      "source": [
        "<a href=\"https://colab.research.google.com/github/guevaracodina/sf2_countdown_bulbs/blob/main/im2sf2bulbcountdown.ipynb\" target=\"_parent\"><img src=\"https://colab.research.google.com/assets/colab-badge.svg\" alt=\"Open In Colab\"/></a>"
      ]
    },
    {
      "cell_type": "markdown",
      "source": [
        "\n",
        "```\n",
        "# The im2sf2bulbcountdown function converts a binary image into an RGB\n",
        "# image by replacing each pixel with predefined 16x16 pixel images based on\n",
        "# specific surrounding pixel patterns, then saves and displays the\n",
        "# resulting image.\n",
        "#\n",
        "# SYNTAX\n",
        "# im2sf2bulbcountdown(ImIn)\n",
        "#\n",
        "# INPUTS\n",
        "# ImIn: file name of the binary image (B/W) to be converted\n",
        "#\n",
        "# OUTPUTS\n",
        "# RGB image composed of the bulbs of Street Fighter 2 countdown\n",
        "#__________________________________________________________________________\n",
        "# Copyright (C) 2024 Edgar Guevara, PhD\n",
        "# CONAHCYT-Universidad Autónoma de San Luis Potosí\n",
        "# Coordinación para la Innovación y Aplicación de la Ciencia y la Tecnología\n",
        "#__________________________________________________________________________\n",
        "```\n",
        "\n",
        "\n"
      ],
      "metadata": {
        "id": "4VncMp3zY6Rf"
      }
    },
    {
      "cell_type": "code",
      "execution_count": 7,
      "metadata": {
        "id": "FhF7TjEvWuXX"
      },
      "outputs": [],
      "source": [
        "import numpy as np\n",
        "from PIL import Image\n",
        "import os\n",
        "from IPython.display import display\n",
        "\n",
        "def im2sf2bulbcountdown(im_in):\n",
        "    # Set the working directory\n",
        "    working_dir = '/content/drive/MyDrive/Colab Notebooks/sf2bulbs'\n",
        "    os.chdir(working_dir)\n",
        "\n",
        "    # Read the input binary image\n",
        "    bw = Image.open(im_in).convert('L')\n",
        "\n",
        "    # Ensure the image is binary\n",
        "    bw = np.array(bw)\n",
        "    bw = (bw > 127).astype(np.uint8)\n",
        "\n",
        "    rows, cols = bw.shape\n",
        "\n",
        "    # Create a blank RGB image for the output\n",
        "    im_out = np.zeros((rows * 16, cols * 16, 3), dtype=np.uint8)\n",
        "\n",
        "    # Load the replacement images\n",
        "    replacement_files = [\n",
        "        'bulb_ON.png', 'bulb_OFF.png', 'bulb_OFF_D.png', 'bulb_OFF_DL.png',\n",
        "        'bulb_OFF_DLR.png', 'bulb_OFF_DR.png', 'bulb_OFF_L.png', 'bulb_OFF_LR.png',\n",
        "        'bulb_OFF_R.png', 'bulb_OFF_U.png', 'bulb_OFF_UD.png', 'bulb_OFF_UDL.png',\n",
        "        'bulb_OFF_UDLR.png', 'bulb_OFF_UDR.png', 'bulb_OFF_UL.png', 'bulb_OFF_ULR.png',\n",
        "        'bulb_OFF_UR.png'\n",
        "    ]\n",
        "\n",
        "    replacement_images = []\n",
        "    for file in replacement_files:\n",
        "        img = Image.open(file).convert('RGB')\n",
        "        replacement_images.append(np.array(img))\n",
        "\n",
        "    # Create a mapping for the conditions\n",
        "    def get_tile(above, below, left, right):\n",
        "        if not above and not below and not left and not right:\n",
        "            return replacement_images[1]\n",
        "        elif not above and below and not left and not right:\n",
        "            return replacement_images[2]\n",
        "        elif not above and below and left and not right:\n",
        "            return replacement_images[3]\n",
        "        elif not above and below and left and right:\n",
        "            return replacement_images[4]\n",
        "        elif not above and below and not left and right:\n",
        "            return replacement_images[5]\n",
        "        elif not above and not below and left and not right:\n",
        "            return replacement_images[6]\n",
        "        elif not above and not below and left and right:\n",
        "            return replacement_images[7]\n",
        "        elif not above and not below and not left and right:\n",
        "            return replacement_images[8]\n",
        "        elif above and not below and not left and not right:\n",
        "            return replacement_images[9]\n",
        "        elif above and below and not left and not right:\n",
        "            return replacement_images[10]\n",
        "        elif above and below and left and not right:\n",
        "            return replacement_images[11]\n",
        "        elif above and below and left and right:\n",
        "            return replacement_images[12]\n",
        "        elif above and below and not left and right:\n",
        "            return replacement_images[13]\n",
        "        elif above and not below and left and not right:\n",
        "            return replacement_images[14]\n",
        "        elif above and not below and left and right:\n",
        "            return replacement_images[15]\n",
        "        elif above and not below and not left and right:\n",
        "            return replacement_images[16]\n",
        "        else:\n",
        "            return replacement_images[1]\n",
        "\n",
        "    # Iterate through the binary image and replace each pixel\n",
        "    for r in range(rows):\n",
        "        for c in range(cols):\n",
        "            if bw[r, c]:  # Process only if the pixel is ON (white pixel)\n",
        "                tile = replacement_images[0]  # White pixels replaced by 'bulb_ON.png'\n",
        "            else:\n",
        "                above = r > 0 and bw[r - 1, c]\n",
        "                below = r < rows - 1 and bw[r + 1, c]\n",
        "                left = c > 0 and bw[r, c - 1]\n",
        "                right = c < cols - 1 and bw[r, c + 1]\n",
        "                tile = get_tile(above, below, left, right)\n",
        "            im_out[r * 16:(r + 1) * 16, c * 16:(c + 1) * 16, :] = tile\n",
        "\n",
        "    # Save the output image\n",
        "    out_image = Image.fromarray(im_out)\n",
        "    out_image.save(f'{os.path.splitext(im_in)[0]}_ImOut.png')\n",
        "\n",
        "    # Display the output image in the Jupyter notebook\n",
        "    display(out_image)\n"
      ]
    },
    {
      "cell_type": "code",
      "source": [
        "# Example usage\n",
        "im2sf2bulbcountdown('SF_logo.png')"
      ],
      "metadata": {
        "colab": {
          "base_uri": "https://localhost:8080/",
          "height": 529
        },
        "id": "hzyEaP-lW2xy",
        "outputId": "898ac413-3730-4288-f98e-13b38a9dc55f"
      },
      "execution_count": 8,
      "outputs": [
        {
          "output_type": "display_data",
          "data": {
            "text/plain": [
              "<PIL.Image.Image image mode=RGB size=512x512>"
            ],
            "image/png": "[encoded data removed]"
          },
          "metadata": {}
        }
      ]
    }
  ]
}